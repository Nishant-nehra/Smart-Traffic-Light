{
 "cells": [
  {
   "cell_type": "code",
   "execution_count": 2,
   "metadata": {},
   "outputs": [
    {
     "name": "stdout",
     "output_type": "stream",
     "text": [
      "cars detected : 1\n",
      "cars detected : 2\n",
      "cars detected : 3\n",
      "cars detected : 4\n",
      "cars detected : 5\n"
     ]
    }
   ],
   "source": [
    "import cv2\n",
    "import numpy as np\n",
    "from time import sleep\n",
    "file1='video/video front1.mp4'\n",
    "file2='video/video front2.mp4'\n",
    "file3='video/back1.mp4'\n",
    "file4='video/back2.mp4'\n",
    "min_width=80 #min width of rectangle\n",
    "min_height=80 #min height of rectangle\n",
    "# max_width=250\n",
    "# max_height=250\n",
    "offset=6 #Allowed error per pixel  \n",
    "\n",
    "pos_line=560 #Count line position (default for back1 is 380 and back2 is 390 and 560 for front)\n",
    "\n",
    "delay= 60 #FPS vídeo\n",
    "\n",
    "detect = []\n",
    "cars= 0\n",
    "\n",
    "\t\n",
    "def get_center(x, y, w, h):\n",
    "    x1 = int(w / 2)\n",
    "    y1 = int(h / 2)\n",
    "    cx = x + x1\n",
    "    cy = y + y1\n",
    "    return cx,cy\n",
    "\n",
    "cap = cv2.VideoCapture(file1)\n",
    "subtract = cv2.bgsegm.createBackgroundSubtractorMOG()\n",
    "\n",
    "while True:\n",
    "    ret , frame1 = cap.read()\n",
    "    time = float(1/delay)\n",
    "    sleep(time) \n",
    "    grey = cv2.cvtColor(frame1,cv2.COLOR_BGR2GRAY)\n",
    "    blur = cv2.GaussianBlur(grey,(3,3),5)\n",
    "    img_sub = subtract.apply(blur)\n",
    "    dilate = cv2.dilate(img_sub,np.ones((5,5)))\n",
    "    kernel = cv2.getStructuringElement(cv2.MORPH_ELLIPSE, (5, 5))\n",
    "    dilated = cv2.morphologyEx (dilate, cv2. MORPH_CLOSE , kernel)\n",
    "    dilated = cv2.morphologyEx (dilated, cv2. MORPH_CLOSE , kernel)\n",
    "    contour,h=cv2.findContours(dilated,cv2.RETR_TREE,cv2.CHAIN_APPROX_SIMPLE)\n",
    "    \n",
    "    cv2.line(frame1, (0, pos_line), (1200, pos_line), (255,127,0), 3) #frame,starting pos,ending pos,color,thickness\n",
    "    for(i,c) in enumerate(contour):\n",
    "        (x,y,w,h) = cv2.boundingRect(c)\n",
    "        validate_contour= (w >= min_width) and (h >= min_height)\n",
    "        #   removing the below line which also checks for max height and width  \n",
    "        #  validate_contour= (((w >= min_width) and (h >= min_height)) and ((w<=max_width) and (h<=max_height)))\n",
    "        if not validate_contour:\n",
    "            continue\n",
    "\n",
    "        cv2.rectangle(frame1,(x,y),(x+w,y+h),(0,255,0),2)        \n",
    "        center = get_center(x, y, w, h)\n",
    "        detect.append(center)\n",
    "        cv2.circle(frame1, center, 4, (0, 0,255), -1)\n",
    "\n",
    "        for (x,y) in detect:\n",
    "            if y<(pos_line+offset) and y>(pos_line-offset):\n",
    "                cars+=1\n",
    "                cv2.line(frame1, (25, pos_line), (1200, pos_line), (0,127,255), 3)  \n",
    "                detect.remove((x,y))\n",
    "                print(\"cars detected : \"+str(cars))        \n",
    "       \n",
    "    cv2.putText(frame1, \"VEHICLE COUNT : \"+str(cars), (10, 70), cv2.FONT_HERSHEY_SIMPLEX, 1, (0, 0, 255),2)\n",
    "    cv2.imshow(\"Video Original\" , frame1)\n",
    "    cv2.imshow(\"Detected\",dilated)\n",
    "\n",
    "    if cv2.waitKey(1) == 27:   #key 27 is escape\n",
    "        break\n",
    "    \n",
    "cv2.destroyAllWindows()\n",
    "cap.release()\n"
   ]
  },
  {
   "cell_type": "code",
   "execution_count": null,
   "metadata": {},
   "outputs": [],
   "source": []
  },
  {
   "cell_type": "code",
   "execution_count": null,
   "metadata": {},
   "outputs": [],
   "source": []
  }
 ],
 "metadata": {
  "kernelspec": {
   "display_name": "Python 3",
   "language": "python",
   "name": "python3"
  },
  "language_info": {
   "codemirror_mode": {
    "name": "ipython",
    "version": 3
   },
   "file_extension": ".py",
   "mimetype": "text/x-python",
   "name": "python",
   "nbconvert_exporter": "python",
   "pygments_lexer": "ipython3",
   "version": "3.8.3"
  }
 },
 "nbformat": 4,
 "nbformat_minor": 4
}
