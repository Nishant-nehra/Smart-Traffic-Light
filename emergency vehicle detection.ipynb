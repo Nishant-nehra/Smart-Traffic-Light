{
 "cells": [
  {
   "cell_type": "code",
   "execution_count": 3,
   "metadata": {},
   "outputs": [
    {
     "name": "stdout",
     "output_type": "stream",
     "text": [
      "detected\n"
     ]
    }
   ],
   "source": [
    "import numpy as np\n",
    "import cv2\n",
    "file1='video/emergency1.mp4'\n",
    "file2='video/emergency2.mp4'\n",
    "emergency_cascade = cv2.CascadeClassifier('cascade/firetruck.xml')\n",
    "#print(emergency_cascade.empty())\n",
    "cap = cv2.VideoCapture(file1)\n",
    "#cap = cv2.VideoCapture(0)\t\t\t# For detection using web camera\n",
    "emergency_vehicle_detected=0\n",
    "while 1:\n",
    "    ret, img = cap.read()\n",
    "    #print(cv2.COLOR_BGR2GRAY)\t\n",
    "    gray = cv2.cvtColor(img, cv2.COLOR_BGR2GRAY)\n",
    "    \n",
    "    #print(gray)\n",
    "    # add this\n",
    "    # image, reject levels level weights.\n",
    "    emergency = emergency_cascade.detectMultiScale(gray, 1.11, 2)\n",
    "    \n",
    "    #print(\"--\", emergency)\n",
    "    # add this\n",
    "    for (x,y,w,h) in emergency:\n",
    "        cv2.rectangle(img,(x,y),(x+w,y+h),(255,255,0),2)\n",
    "        emergency_vehicle_detected+=1\n",
    "        break\n",
    "        \n",
    "    if emergency_vehicle_detected == 2:\n",
    "        print(\"detected\")\n",
    "        break\n",
    "    \n",
    "    cv2.imshow('img',img)\n",
    "    k = cv2.waitKey(30) & 0xff\n",
    "    if k == 27: #key 27 is escape key\n",
    "        break\n",
    "\n",
    "cap.release()\n",
    "cv2.destroyAllWindows()"
   ]
  },
  {
   "cell_type": "code",
   "execution_count": null,
   "metadata": {},
   "outputs": [],
   "source": []
  }
 ],
 "metadata": {
  "kernelspec": {
   "display_name": "Python 3",
   "language": "python",
   "name": "python3"
  },
  "language_info": {
   "codemirror_mode": {
    "name": "ipython",
    "version": 3
   },
   "file_extension": ".py",
   "mimetype": "text/x-python",
   "name": "python",
   "nbconvert_exporter": "python",
   "pygments_lexer": "ipython3",
   "version": "3.8.3"
  }
 },
 "nbformat": 4,
 "nbformat_minor": 4
}
