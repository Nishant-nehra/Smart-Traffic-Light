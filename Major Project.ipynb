{
 "cells": [
  {
   "cell_type": "code",
   "execution_count": 1,
   "metadata": {},
   "outputs": [],
   "source": [
    "import cv2\n",
    "import  numpy as np\n",
    "from time import sleep\n",
    "\n",
    "#The below lines are to take input directly from webcam\n",
    "# cap = cv2.VideoCapture(0)\n",
    "# fourcc = cv2.VideoWriter_fourcc(*'XVID')\n",
    "# out = cv2.VideoWriter('output.avi',fourcc,5.0,(640,480))\n",
    "#0 = webcam1\n",
    "#1 = webcam2\n",
    "file1 = 'video/video front1.mp4'\n",
    "file2 = 'video/video front2.mp4'\n",
    "file3 = 'video/back1.mp4'\n",
    "file4 = 'video/back2.mp4'\n",
    "file5 = 'video/emergency1.mp4'\n",
    "file6 = 'video/emergency2.mp4'"
   ]
  },
  {
   "cell_type": "markdown",
   "metadata": {},
   "source": [
    "\n",
    "# Function to count no of cars\n"
   ]
  },
  {
   "cell_type": "code",
   "execution_count": 2,
   "metadata": {},
   "outputs": [],
   "source": [
    "def getCenter(x, y, w, h):\n",
    "    x1 = int(w / 2)\n",
    "    y1 = int(h / 2)\n",
    "    cx = x + x1\n",
    "    cy = y + y1\n",
    "    return cx,cy"
   ]
  },
  {
   "cell_type": "code",
   "execution_count": 3,
   "metadata": {},
   "outputs": [],
   "source": [
    "def countCarsOnEachLane(filename,pos_line=650):\n",
    "    min_width = 80 #min width of rectangle\n",
    "    min_height = 80 #min height of rectangle\n",
    "    # max_width = 250\n",
    "    # max_height = 250\n",
    "    offset = 6     #Allowed error per pixel  \n",
    "\n",
    "    #pos_line = 650    #Count line position (default for back1 is 380 and back2 is 390 and 560 for front)\n",
    "\n",
    "    delay = 60 #FPS vídeo\n",
    "\n",
    "    detect = []\n",
    "    cars = 0\n",
    "\n",
    "    cap = cv2.VideoCapture(filename)\n",
    "    subtract = cv2.bgsegm.createBackgroundSubtractorMOG()\n",
    "\n",
    "    while True:\n",
    "        ret , frame1 = cap.read()\n",
    "        time = float(1 / delay)\n",
    "        sleep(time) \n",
    "        grey = cv2.cvtColor(frame1, cv2.COLOR_BGR2GRAY)\n",
    "        blur = cv2.GaussianBlur(grey, (3, 3), 5)\n",
    "        img_sub = subtract.apply(blur)\n",
    "        dilate = cv2.dilate(img_sub, np.ones((5, 5)))\n",
    "        kernel = cv2.getStructuringElement(cv2.MORPH_ELLIPSE, (5, 5))\n",
    "        dilated = cv2.morphologyEx (dilate, cv2. MORPH_CLOSE , kernel)\n",
    "        dilated = cv2.morphologyEx (dilated, cv2. MORPH_CLOSE , kernel)\n",
    "        contour , h = cv2.findContours(dilated, cv2.RETR_TREE, cv2.CHAIN_APPROX_SIMPLE)\n",
    "\n",
    "        cv2.line(frame1, (0, pos_line), (1200, pos_line), (255, 127, 0), 3) #frame,starting pos,ending pos,color,thickness\n",
    "        for(i, c) in enumerate(contour):\n",
    "            (x, y, w, h) = cv2.boundingRect(c)\n",
    "            validate_contour = (w >= min_width) and (h >= min_height)\n",
    "            #   removing the below line which also checks for max height and width  \n",
    "            #  validate_contour= (((w >= min_width) and (h >= min_height)) and ((w<=max_width) and (h<=max_height)))\n",
    "            if not validate_contour:\n",
    "                continue\n",
    "\n",
    "            cv2.rectangle(frame1, (x, y), (x + w, y + h), (0, 255, 0), 2)        \n",
    "            center = getCenter(x, y, w, h)\n",
    "            detect.append(center)\n",
    "            cv2.circle(frame1, center, 4, (0, 0, 255), -1)\n",
    "\n",
    "            for (x,y) in detect:\n",
    "                if y<(pos_line + offset) and y > (pos_line - offset):\n",
    "                    cars += 1\n",
    "                    cv2.line(frame1, (25, pos_line), (1200, pos_line), (0, 127, 255), 3)  \n",
    "                    detect.remove((x, y))\n",
    "                    #print(\"cars detected : \"+str(cars))        \n",
    "\n",
    "        cv2.putText(frame1, \"VEHICLE COUNT : \" + str(cars), (10, 70), cv2.FONT_HERSHEY_SIMPLEX, 1, (0, 0, 255), 2)\n",
    "        cv2.imshow(\"Video Original\" , frame1)\n",
    "        cv2.imshow(\"Detected\", dilated)\n",
    "\n",
    "        if cv2.waitKey(1) == 27:   #key 27 is escape\n",
    "            break\n",
    "\n",
    "    cv2.destroyAllWindows()\n",
    "    cap.release()\n",
    "    return cars"
   ]
  },
  {
   "cell_type": "markdown",
   "metadata": {},
   "source": [
    "\n",
    "# Function to detect emergency vehicle\n"
   ]
  },
  {
   "cell_type": "code",
   "execution_count": 4,
   "metadata": {},
   "outputs": [],
   "source": [
    "def checkForEmergencyVehicle(filename):\n",
    "    \n",
    "    emergency_cascade = cv2.CascadeClassifier('cascade/firetruck.xml')\n",
    "    #print(emergency_cascade.empty())\n",
    "    cap = cv2.VideoCapture(filename)\n",
    "    #cap = cv2.VideoCapture(0)\t\t\t# For detection using web camera\n",
    "    is_emergency_vehicle_present = 0\n",
    "    emergency_vehicle_detected = 0\n",
    "    while 1:\n",
    "        ret, img = cap.read()\n",
    "        #print(cv2.COLOR_BGR2GRAY)\t\n",
    "        gray = cv2.cvtColor(img, cv2.COLOR_BGR2GRAY)\n",
    "\n",
    "        #print(gray)\n",
    "\n",
    "        emergency = emergency_cascade.detectMultiScale(gray, 1.11, 2)\n",
    "\n",
    "        for (x, y, w, h) in emergency:\n",
    "            cv2.rectangle(img, (x, y),(x + w, y + h),(255, 255, 0), 2)\n",
    "            emergency_vehicle_detected += 1\n",
    "            break\n",
    "\n",
    "        if emergency_vehicle_detected == 5:\n",
    "            #print(\"detected\")\n",
    "            is_emergency_vehicle_present = 1\n",
    "            break\n",
    "\n",
    "        cv2.imshow('Emergency Vehicle', img)\n",
    "        k = cv2.waitKey(30) & 0xff\n",
    "        if k == 27: #key 27 is escape key\n",
    "            break\n",
    "\n",
    "    cap.release()\n",
    "    cv2.destroyAllWindows()\n",
    "    return is_emergency_vehicle_present"
   ]
  },
  {
   "cell_type": "markdown",
   "metadata": {},
   "source": [
    "\n",
    "# Status of lane function\n"
   ]
  },
  {
   "cell_type": "code",
   "execution_count": 5,
   "metadata": {},
   "outputs": [],
   "source": [
    "#lane is a list with lane[0]->no of cars, lane[1]->emergency vehicle boolean,lane[2]->lane number\n",
    "\n",
    "def statusOfLane(lane):\n",
    "    \n",
    "    print(\"Status of lane\", lane[2])\n",
    "    print (\"No. of cars on lane\", lane[2],\": \", lane[0] )\n",
    "    \n",
    "    if lane[1] == 1:\n",
    "        print(\"Emergency vehicle detected on lane\", lane[2])\n",
    "        \n",
    "    else:\n",
    "        print(\"Emergency vehicle not detected on lane\", lane[2])"
   ]
  },
  {
   "cell_type": "markdown",
   "metadata": {},
   "source": [
    "\n",
    "# Green Signal Check function\n"
   ]
  },
  {
   "cell_type": "code",
   "execution_count": 6,
   "metadata": {},
   "outputs": [],
   "source": [
    "def greenSignalCheck(lane1, lane2, lane3, lane4):\n",
    "    \n",
    "    #BY default we have set green signal at lane 1\n",
    "    greenSignal = lane1\n",
    "    \n",
    "    if lane1[1] == 1:\n",
    "        #print(\"Green signal on lane\",lane1[2])\n",
    "        greenSignal = lane1\n",
    "        return greenSignal\n",
    "    \n",
    "    if lane2[1] == 1:\n",
    "        greenSignal = lane2\n",
    "        return greenSignal\n",
    "    \n",
    "    if lane3[1] == 1:\n",
    "        greenSignal=lane3\n",
    "        return greenSignal\n",
    "    \n",
    "    if lane4[1] == 1:\n",
    "        greenSignal=lane4\n",
    "        return greenSignal\n",
    "    \n",
    "    \n",
    "    if greenSignal[0] < lane2[0]:\n",
    "        greenSignal = lane2\n",
    "        \n",
    "    if greenSignal[0] < lane3[0]:\n",
    "        greenSignal = lane3\n",
    "        \n",
    "    if greenSignal[0] < lane4[0]:\n",
    "        greenSignal = lane4\n",
    "        \n",
    "    return greenSignal "
   ]
  },
  {
   "cell_type": "markdown",
   "metadata": {},
   "source": [
    "\n",
    "# Applying functions\n"
   ]
  },
  {
   "cell_type": "code",
   "execution_count": 7,
   "metadata": {},
   "outputs": [
    {
     "name": "stdout",
     "output_type": "stream",
     "text": [
      "Status of lane 1\n",
      "No. of cars on lane 1 :  12\n",
      "Emergency vehicle not detected on lane 1\n"
     ]
    }
   ],
   "source": [
    "count1 = countCarsOnEachLane(file1, 550)\n",
    "emergency1 = checkForEmergencyVehicle(file1)\n",
    "\n",
    "lane1 = [count1, emergency1, '1']\n",
    "statusOfLane(lane1)\n"
   ]
  },
  {
   "cell_type": "code",
   "execution_count": 8,
   "metadata": {},
   "outputs": [
    {
     "name": "stdout",
     "output_type": "stream",
     "text": [
      "Status of lane 2\n",
      "No. of cars on lane 2 :  12\n",
      "Emergency vehicle not detected on lane 2\n"
     ]
    }
   ],
   "source": [
    "count2 = countCarsOnEachLane(file2, 560)\n",
    "emergency2 = checkForEmergencyVehicle(file2)\n",
    "\n",
    "lane2 = [count2, emergency2, '2']\n",
    "statusOfLane(lane2)"
   ]
  },
  {
   "cell_type": "code",
   "execution_count": 9,
   "metadata": {},
   "outputs": [
    {
     "name": "stdout",
     "output_type": "stream",
     "text": [
      "Status of lane 3\n",
      "No. of cars on lane 3 :  1\n",
      "Emergency vehicle not detected on lane 3\n"
     ]
    }
   ],
   "source": [
    "count3 = countCarsOnEachLane(file3, 380)\n",
    "emergency3 = checkForEmergencyVehicle(file3)\n",
    "\n",
    "lane3 = [count3, emergency3, '3']\n",
    "statusOfLane(lane3)"
   ]
  },
  {
   "cell_type": "code",
   "execution_count": 10,
   "metadata": {},
   "outputs": [],
   "source": [
    "#if you want an extra lane without emergency vehicles then run this\n",
    "# count4 = countCarsOnEachLane(file4, 390)\n",
    "# emergency4 = checkForEmergencyVehicle(file4)\n",
    "\n",
    "# lane4 = [count4, emergency4, '4']\n",
    "# statusOfLane(lane4)"
   ]
  },
  {
   "cell_type": "code",
   "execution_count": 11,
   "metadata": {},
   "outputs": [
    {
     "name": "stdout",
     "output_type": "stream",
     "text": [
      "Status of lane 4\n",
      "No. of cars on lane 4 :  2\n",
      "Emergency vehicle detected on lane 4\n"
     ]
    }
   ],
   "source": [
    "#can use both file 5&6 for emergency vehicle detection\n",
    "emergency4 = checkForEmergencyVehicle(file6)\n",
    "count4 = 1\n",
    "lane4 = [count4, emergency4, '4']\n",
    "statusOfLane(lane4)"
   ]
  },
  {
   "cell_type": "code",
   "execution_count": 12,
   "metadata": {},
   "outputs": [
    {
     "name": "stdout",
     "output_type": "stream",
     "text": [
      "Green Signal on lane 4\n"
     ]
    }
   ],
   "source": [
    "print(\"Green Signal on lane\", greenSignalCheck(lane1, lane2, lane3, lane4)[2])"
   ]
  },
  {
   "cell_type": "markdown",
   "metadata": {},
   "source": [
    "\n",
    "# Custom inputs\n"
   ]
  },
  {
   "cell_type": "code",
   "execution_count": 13,
   "metadata": {},
   "outputs": [],
   "source": [
    "count1 = 10\n",
    "count2 = 13\n",
    "count3 = 11\n",
    "count4 = 10\n",
    "emergency1 = 0\n",
    "emergency2 = 0\n",
    "emergency3 = 0\n",
    "emergency4 = 0"
   ]
  },
  {
   "cell_type": "code",
   "execution_count": 14,
   "metadata": {},
   "outputs": [],
   "source": [
    "lane1 = [count1, emergency1, '1']\n",
    "lane2 = [count2, emergency2, '2']\n",
    "lane3 = [count3, emergency3, '3']\n",
    "lane4 = [count4, emergency4, '4']"
   ]
  },
  {
   "cell_type": "code",
   "execution_count": 15,
   "metadata": {},
   "outputs": [
    {
     "name": "stdout",
     "output_type": "stream",
     "text": [
      "Status of lane 1\n",
      "No. of cars on lane 1 :  10\n",
      "Emergency vehicle not detected on lane 1\n",
      "Status of lane 2\n",
      "No. of cars on lane 2 :  13\n",
      "Emergency vehicle not detected on lane 2\n",
      "Status of lane 3\n",
      "No. of cars on lane 3 :  11\n",
      "Emergency vehicle not detected on lane 3\n",
      "Status of lane 4\n",
      "No. of cars on lane 4 :  10\n",
      "Emergency vehicle not detected on lane 4\n"
     ]
    }
   ],
   "source": [
    "statusOfLane(lane1)\n",
    "statusOfLane(lane2)\n",
    "statusOfLane(lane3)\n",
    "statusOfLane(lane4)"
   ]
  },
  {
   "cell_type": "code",
   "execution_count": 16,
   "metadata": {},
   "outputs": [
    {
     "name": "stdout",
     "output_type": "stream",
     "text": [
      "Green Signal on lane 2\n"
     ]
    }
   ],
   "source": [
    "print(\"Green Signal on lane\", greenSignalCheck(lane1, lane2, lane3, lane4)[2])"
   ]
  },
  {
   "cell_type": "code",
   "execution_count": null,
   "metadata": {},
   "outputs": [],
   "source": []
  }
 ],
 "metadata": {
  "kernelspec": {
   "display_name": "Python 3",
   "language": "python",
   "name": "python3"
  },
  "language_info": {
   "codemirror_mode": {
    "name": "ipython",
    "version": 3
   },
   "file_extension": ".py",
   "mimetype": "text/x-python",
   "name": "python",
   "nbconvert_exporter": "python",
   "pygments_lexer": "ipython3",
   "version": "3.8.3"
  }
 },
 "nbformat": 4,
 "nbformat_minor": 4
}
